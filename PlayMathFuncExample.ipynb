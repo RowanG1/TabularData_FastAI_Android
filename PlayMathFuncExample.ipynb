{
 "cells": [
  {
   "cell_type": "code",
   "execution_count": 559,
   "metadata": {},
   "outputs": [],
   "source": [
    "import numpy\n",
    "import math\n",
    "from numpy import arange\n",
    "import csv\n",
    "import fastbook\n",
    "fastbook.setup_book()\n",
    "from fastbook import *\n",
    "from fastai.tabular.all import *\n",
    "from torch.utils.mobile_optimizer import optimize_for_mobile"
   ]
  },
  {
   "cell_type": "code",
   "execution_count": 560,
   "metadata": {},
   "outputs": [],
   "source": [
    "#First section creates the CSV data, from a basic mathematical function with 3 independent variables"
   ]
  },
  {
   "cell_type": "code",
   "execution_count": 561,
   "metadata": {},
   "outputs": [],
   "source": [
    "def getY(i, j, k):\n",
    "    return  i ** 2 + 3*j + math.sqrt(k)"
   ]
  },
  {
   "cell_type": "code",
   "execution_count": 562,
   "metadata": {},
   "outputs": [],
   "source": [
    "def testGetY():\n",
    "    result = getY(1, 1, 1)\n",
    "    assert(result == 5)\n",
    "    result = getY(2, 2, 4)\n",
    "    assert(result == 12)"
   ]
  },
  {
   "cell_type": "code",
   "execution_count": 563,
   "metadata": {},
   "outputs": [],
   "source": [
    "testGetY()"
   ]
  },
  {
   "cell_type": "code",
   "execution_count": 564,
   "metadata": {},
   "outputs": [],
   "source": [
    "# Creates data set within range of 0 to 5 for all inputs\n",
    "def createData():\n",
    "    list = []\n",
    "    for i in arange(0.0, 5.0, 0.1):\n",
    "        for j in arange(0.0, 5.0, 0.1):\n",
    "            for k in arange(0.0, 5.0, 0.1):\n",
    "               result = getY(i, j, k)\n",
    "               roundResult = round(result, 2)\n",
    "               list.append([round(i, 1), round(j, 1), round(k, 1), roundResult])\n",
    "    return list"
   ]
  },
  {
   "cell_type": "code",
   "execution_count": 565,
   "metadata": {},
   "outputs": [],
   "source": [
    "def createCSVFromData(listInput):\n",
    "    with open('mathData.csv', 'w') as csvfile:\n",
    "        filewriter = csv.writer(csvfile, delimiter=',',\n",
    "                                quotechar='|', quoting=csv.QUOTE_MINIMAL)\n",
    "        filewriter.writerow(['i','j','k','y'])\n",
    "        for i in listInput:\n",
    "            filewriter.writerow(i)"
   ]
  },
  {
   "cell_type": "code",
   "execution_count": 566,
   "metadata": {},
   "outputs": [],
   "source": [
    "list = createData()\n",
    "createCSVFromData(list)"
   ]
  },
  {
   "cell_type": "code",
   "execution_count": 567,
   "metadata": {},
   "outputs": [],
   "source": [
    "#Second section does the ML for the data\n",
    "\n",
    "dls = TabularDataLoaders.from_csv('mathData.csv', y_names='y',\n",
    "    cont_names = ['i', 'j', 'k'],\n",
    "    procs = None)\n",
    "\n",
    "learn = tabular_learner(dls, metrics=[rmse])"
   ]
  },
  {
   "cell_type": "code",
   "execution_count": 568,
   "metadata": {},
   "outputs": [
    {
     "data": {
      "text/plain": [
       "TabularModel(\n",
       "  (embeds): ModuleList()\n",
       "  (emb_drop): Dropout(p=0.0, inplace=False)\n",
       "  (bn_cont): BatchNorm1d(3, eps=1e-05, momentum=0.1, affine=True, track_running_stats=True)\n",
       "  (layers): Sequential(\n",
       "    (0): LinBnDrop(\n",
       "      (0): Linear(in_features=3, out_features=200, bias=False)\n",
       "      (1): ReLU(inplace=True)\n",
       "      (2): BatchNorm1d(200, eps=1e-05, momentum=0.1, affine=True, track_running_stats=True)\n",
       "    )\n",
       "    (1): LinBnDrop(\n",
       "      (0): Linear(in_features=200, out_features=100, bias=False)\n",
       "      (1): ReLU(inplace=True)\n",
       "      (2): BatchNorm1d(100, eps=1e-05, momentum=0.1, affine=True, track_running_stats=True)\n",
       "    )\n",
       "    (2): LinBnDrop(\n",
       "      (0): Linear(in_features=100, out_features=1, bias=True)\n",
       "    )\n",
       "  )\n",
       ")"
      ]
     },
     "execution_count": 568,
     "metadata": {},
     "output_type": "execute_result"
    }
   ],
   "source": [
    "learn.model"
   ]
  },
  {
   "cell_type": "code",
   "execution_count": 569,
   "metadata": {},
   "outputs": [
    {
     "data": {
      "text/html": [],
      "text/plain": [
       "<IPython.core.display.HTML object>"
      ]
     },
     "metadata": {},
     "output_type": "display_data"
    },
    {
     "data": {
      "text/plain": [
       "SuggestedLRs(valley=0.005248074419796467)"
      ]
     },
     "execution_count": 569,
     "metadata": {},
     "output_type": "execute_result"
    },
    {
     "data": {
      "image/png": "[encoded data removed]",
      "text/plain": [
       "<Figure size 432x288 with 1 Axes>"
      ]
     },
     "metadata": {
      "needs_background": "light"
     },
     "output_type": "display_data"
    }
   ],
   "source": [
    "# Find the optimal learning rate.\n",
    "learn.lr_find()"
   ]
  },
  {
   "cell_type": "code",
   "execution_count": 570,
   "metadata": {},
   "outputs": [
    {
     "data": {
      "text/html": [
       "<table border=\"1\" class=\"dataframe\">\n",
       "  <thead>\n",
       "    <tr style=\"text-align: left;\">\n",
       "      <th>epoch</th>\n",
       "      <th>train_loss</th>\n",
       "      <th>valid_loss</th>\n",
       "      <th>_rmse</th>\n",
       "      <th>time</th>\n",
       "    </tr>\n",
       "  </thead>\n",
       "  <tbody>\n",
       "    <tr>\n",
       "      <td>0</td>\n",
       "      <td>1.746988</td>\n",
       "      <td>0.372215</td>\n",
       "      <td>0.610094</td>\n",
       "      <td>00:13</td>\n",
       "    </tr>\n",
       "    <tr>\n",
       "      <td>1</td>\n",
       "      <td>1.755982</td>\n",
       "      <td>0.108018</td>\n",
       "      <td>0.328661</td>\n",
       "      <td>00:13</td>\n",
       "    </tr>\n",
       "    <tr>\n",
       "      <td>2</td>\n",
       "      <td>1.298894</td>\n",
       "      <td>0.139628</td>\n",
       "      <td>0.373668</td>\n",
       "      <td>00:14</td>\n",
       "    </tr>\n",
       "  </tbody>\n",
       "</table>"
      ],
      "text/plain": [
       "<IPython.core.display.HTML object>"
      ]
     },
     "metadata": {},
     "output_type": "display_data"
    }
   ],
   "source": [
    "# Train model, using the 1 cycle policy, which varies the learning rate optimally.\n",
    "learn.fit_one_cycle(3, 0.011)"
   ]
  },
  {
   "cell_type": "code",
   "execution_count": 571,
   "metadata": {},
   "outputs": [
    {
     "name": "stdout",
     "output_type": "stream",
     "text": [
      "Input for a test case:\n",
      "i    2.1\n",
      "j    4.2\n",
      "k    4.3\n",
      "Name: 0, dtype: float64\n",
      "True calculated result:\n",
      "19.08\n",
      "ML prediction:\n"
     ]
    },
    {
     "data": {
      "text/html": [],
      "text/plain": [
       "<IPython.core.display.HTML object>"
      ]
     },
     "metadata": {},
     "output_type": "display_data"
    },
    {
     "data": {
      "text/html": [
       "<table border=\"1\" class=\"dataframe\">\n",
       "  <thead>\n",
       "    <tr style=\"text-align: right;\">\n",
       "      <th></th>\n",
       "      <th>i</th>\n",
       "      <th>j</th>\n",
       "      <th>k</th>\n",
       "      <th>y</th>\n",
       "    </tr>\n",
       "  </thead>\n",
       "  <tbody>\n",
       "    <tr>\n",
       "      <th>0</th>\n",
       "      <td>2.1</td>\n",
       "      <td>4.2</td>\n",
       "      <td>4.3</td>\n",
       "      <td>19.140711</td>\n",
       "    </tr>\n",
       "  </tbody>\n",
       "</table>"
      ],
      "text/plain": [
       "<IPython.core.display.HTML object>"
      ]
     },
     "metadata": {},
     "output_type": "display_data"
    }
   ],
   "source": [
    "#Run a test case. \n",
    "# \"Cont\" means continous data, vs categorical.\n",
    "contInputData = {'i': [2.1],\n",
    "\t'j': [4.2],\n",
    "\t'k': [4.3]}\n",
    "\n",
    "contInputDf = pd.DataFrame(contInputData)\n",
    "\n",
    "print(\"Input for a test case:\")\n",
    "contInputVal = contInputDf.iloc[0]\n",
    "print(contInputVal)\n",
    "\n",
    "i1 = contInputVal['i']\n",
    "j1 = contInputVal['j']\n",
    "k1 = contInputVal['k']\n",
    "\n",
    "result = getY(i1, j1, k1)\n",
    "print(\"True calculated result:\")\n",
    "print(round(result, 2))\n",
    "\n",
    "print(\"ML prediction:\")\n",
    "row, clas, probs = learn.predict(contInputVal)\n",
    "row.show()"
   ]
  },
  {
   "cell_type": "code",
   "execution_count": 572,
   "metadata": {},
   "outputs": [
    {
     "name": "stdout",
     "output_type": "stream",
     "text": [
      "Pytorch prediction:\n"
     ]
    }
   ],
   "source": [
    "# Check prediction using the PyTorch model, not FastAI predict.\n",
    "with torch.no_grad():\n",
    "    finalModel = learn.model.eval().to(\"cpu\")\n",
    "    cont_example_input = torch.tensor(contInputDf.values).to(\"cpu\").float()\n",
    "    cat_example_input = torch.tensor([])\n",
    "    print(\"Pytorch prediction:\")\n",
    "    output = finalModel(cat_example_input, cont_example_input)"
   ]
  },
  {
   "cell_type": "code",
   "execution_count": 573,
   "metadata": {},
   "outputs": [
    {
     "data": {
      "text/plain": [
       "tensor([[19.1407]])"
      ]
     },
     "execution_count": 573,
     "metadata": {},
     "output_type": "execute_result"
    }
   ],
   "source": [
    "output"
   ]
  },
  {
   "cell_type": "code",
   "execution_count": 574,
   "metadata": {},
   "outputs": [],
   "source": [
    "# Deploy model to tensor lite for mobile\n",
    "# There is no category input data, only continous. So we set it blank.\n",
    "catExamp = torch.tensor([])\n",
    "# The input for categorical and continuous data combined is a tuple\n",
    "example_input = (catExamp, torch_tensor)\n",
    "traced_script_module = torch.jit.trace(finalModel, example_input)"
   ]
  },
  {
   "cell_type": "code",
   "execution_count": 575,
   "metadata": {},
   "outputs": [],
   "source": [
    "optimized_traced_model = optimize_for_mobile(traced_script_module)\n",
    "optimized_traced_model._save_for_lite_interpreter(\"model.ptl\")"
   ]
  }
 ],
 "metadata": {
  "kernelspec": {
   "display_name": "Python 3",
   "language": "python",
   "name": "python3"
  },
  "language_info": {
   "codemirror_mode": {
    "name": "ipython",
    "version": 3
   },
   "file_extension": ".py",
   "mimetype": "text/x-python",
   "name": "python",
   "nbconvert_exporter": "python",
   "pygments_lexer": "ipython3",
   "version": "3.8.5"
  }
 },
 "nbformat": 4,
 "nbformat_minor": 4
}
